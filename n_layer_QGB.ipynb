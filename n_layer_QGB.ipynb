{
 "cells": [
  {
   "cell_type": "markdown",
   "id": "01c86ab6-40a9-44a3-a93d-9aa73681c9b6",
   "metadata": {},
   "source": [
    "## N-LAYER QGB <a id=\"N-LAYER QGB\"></a>"
   ]
  },
  {
   "cell_type": "code",
   "execution_count": null,
   "id": "96872da5-ee63-46ac-994e-0e3ab7c21965",
   "metadata": {},
   "outputs": [],
   "source": [
    "import numpy as np\n",
    "\n",
    "from qiskit import QuantumCircuit,QuantumRegister, ClassicalRegister\n",
    "from qiskit.circuit import Parameter\n",
    "from qiskit.visualization import plot_histogram, plot_distribution\n",
    "from qiskit_ibm_runtime import Options, Session, SamplerV2 as Sampler\n",
    "from qiskit.result import marginal_distribution\n",
    "\n",
    "from qiskit.transpiler import generate_preset_pass_manager\n",
    "from qiskit_ibm_runtime import QiskitRuntimeService\n",
    "from qiskit_aer import AerSimulator"
   ]
  },
  {
   "cell_type": "code",
   "execution_count": null,
   "id": "f864bda1-7128-451a-bceb-f343fbcf06fd",
   "metadata": {},
   "outputs": [],
   "source": [
    "#paramters\n",
    "n=6 # no of layers\n",
    "num_qubits = int(2*(n+1)) #no of qubits\n",
    "m= int(n+1) #staritng position\n",
    "\n",
    "#Register\n",
    "qr= QuantumRegister(num_qubits, name=\"qr\")\n",
    "cr= ClassicalRegister(num_qubits,name=\"cr\")\n",
    "QGB = QuantumCircuit(qr,cr)\n",
    "\n",
    "#Initializing at starting position\n",
    "QGB.x(m)\n",
    "\n",
    "#steps of Quantum Galton Board\n",
    "for i in range(0,n):\n",
    "        QGB.h(0)\n",
    "        p=int(m-i)\n",
    "        for j in range(i+1):\n",
    "            r= int(p + 2*j)\n",
    "            QGB.cswap(0,r-1,r)\n",
    "            QGB.cx(r,0)\n",
    "            QGB.cswap(0,r,r+1)\n",
    "            if r+1 == m+i+1 and r+1 != 2*n+1:\n",
    "                QGB.reset(0)\n",
    "            elif r+1 != 2*n+1:\n",
    "                QGB.cx(r+1,0)\n",
    "QGB.barrier()\n",
    "\n",
    "#measurement\n",
    "for i in range(1,num_qubits):\n",
    "    QGB.measure(qr[i],cr[i])\n",
    "\n",
    "\n",
    "QGB.draw(\"mpl\")"
   ]
  },
  {
   "cell_type": "code",
   "execution_count": null,
   "id": "6a83e28a-f266-4e8f-9eff-23d6c6fef13d",
   "metadata": {},
   "outputs": [],
   "source": [
    "backend = AerSimulator()\n",
    "\n",
    "pm = generate_preset_pass_manager(backend = backend)\n",
    "qc= pm.run(QGB)\n",
    "\n",
    "sampler = Sampler(mode=backend)\n",
    "count = sampler.run([qc], shots= 2048).result()[0].data.cr.get_counts()\n",
    "\n",
    "plot_distribution(count)"
   ]
  },
  {
   "cell_type": "code",
   "execution_count": null,
   "id": "660f3159-a194-484c-81b6-f2d6b3dc89f7",
   "metadata": {},
   "outputs": [],
   "source": []
  }
 ],
 "metadata": {
  "kernelspec": {
   "display_name": "Qiskit",
   "language": "python",
   "name": "qiskit"
  },
  "language_info": {
   "codemirror_mode": {
    "name": "ipython",
    "version": 3
   },
   "file_extension": ".py",
   "mimetype": "text/x-python",
   "name": "python",
   "nbconvert_exporter": "python",
   "pygments_lexer": "ipython3",
   "version": "3.12.7"
  }
 },
 "nbformat": 4,
 "nbformat_minor": 5
}
