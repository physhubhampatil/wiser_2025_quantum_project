{
 "cells": [
  {
   "cell_type": "markdown",
   "id": "b1379a91-035e-4c15-ae8d-7be16320f5a1",
   "metadata": {},
   "source": [
    "## QGB with exponintial distribution <a id=\"QGB with exponential distribution\"></a>"
   ]
  },
  {
   "cell_type": "code",
   "execution_count": null,
   "id": "c2aa93fe-a00b-4bbe-aff1-8b48bc305460",
   "metadata": {},
   "outputs": [],
   "source": [
    "import numpy as np\n",
    "import matplotlib.pyplot as plt\n",
    "from qiskit import QuantumCircuit,QuantumRegister, ClassicalRegister\n",
    "from qiskit.circuit import Parameter\n",
    "from qiskit.visualization import plot_histogram, plot_distribution\n",
    "from qiskit_ibm_runtime import Options, Session, SamplerV2 as Sampler\n",
    "from qiskit.result import marginal_distribution\n",
    "\n",
    "from qiskit.transpiler import generate_preset_pass_manager\n",
    "from qiskit_ibm_runtime import QiskitRuntimeService\n",
    "from qiskit_aer import AerSimulator"
   ]
  },
  {
   "cell_type": "code",
   "execution_count": null,
   "id": "1a0aa9af-a119-4ca1-b7f3-7f8c16e9dde6",
   "metadata": {},
   "outputs": [],
   "source": [
    "#parameters\n",
    "n=7 #no. of layers\n",
    "num_qubit = int(2*(n+1)) #no. of qubits\n",
    "m= int(n+1) #starting position\n",
    "theta = 14*np.pi/18\n",
    "#Registers\n",
    "qr= QuantumRegister(num_qubit, name=\"qr\")\n",
    "cr= ClassicalRegister(num_qubit,name=\"cr\")\n",
    "qc= QuantumCircuit(qr,cr)\n",
    "\n",
    "#Initialize walker at starting position\n",
    "qc.x(m)\n",
    "\n",
    "#Quantum Galton board steps\n",
    "for i in range(n):\n",
    "        qc.rx(theta,0)\n",
    "        p=int(m-i)\n",
    "        for j in range(i+1):\n",
    "            r= int(p + 2*j)\n",
    "            qc.cswap(0,r-1,r)\n",
    "            qc.cx(r,0)\n",
    "            qc.cswap(0,r,r+1)\n",
    "            if r+1 == m+i+1 and r+1 != 2*n+1:\n",
    "                qc.reset(0)\n",
    "            elif r+1 != 2*n+1:\n",
    "                qc.cx(r+1,0)\n",
    "qc.barrier()\n",
    "\n",
    "#measurement\n",
    "for i in range(1,num_qubit):\n",
    "    qc.measure(qr[i],cr[i])\n",
    "\n",
    "\n",
    "qc.draw(\"mpl\")"
   ]
  },
  {
   "cell_type": "code",
   "execution_count": null,
   "id": "7f5e1883-9ad6-477d-b2cc-23f9d8229d77",
   "metadata": {},
   "outputs": [],
   "source": [
    "backend = AerSimulator()\n",
    "\n",
    "# make quantum circuit compatible to the backend\n",
    "pm = generate_preset_pass_manager(backend = backend, optimization_level=3)\n",
    "qc_isa = pm.run(qc)\n",
    "\n",
    "# run and get counts\n",
    "sampler = Sampler(mode=backend)\n",
    "counts = sampler.run([qc_isa], shots = 1000).result()[0].data.cr.get_counts()\n",
    "\n",
    "plot_distribution(counts)"
   ]
  },
  {
   "cell_type": "code",
   "execution_count": null,
   "id": "d569d458-60a3-48dc-b1c2-e9d2fddaded1",
   "metadata": {},
   "outputs": [],
   "source": []
  }
 ],
 "metadata": {
  "kernelspec": {
   "display_name": "Qiskit",
   "language": "python",
   "name": "qiskit"
  },
  "language_info": {
   "codemirror_mode": {
    "name": "ipython",
    "version": 3
   },
   "file_extension": ".py",
   "mimetype": "text/x-python",
   "name": "python",
   "nbconvert_exporter": "python",
   "pygments_lexer": "ipython3",
   "version": "3.12.7"
  }
 },
 "nbformat": 4,
 "nbformat_minor": 5
}
