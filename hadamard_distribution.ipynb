{
 "cells": [
  {
   "cell_type": "markdown",
   "id": "280a8e7e-c600-4d63-9729-39abf8aeace0",
   "metadata": {},
   "source": [
    "## Hadamard Quantum Walks <a id=\"Hadamard Quantum Walks\"></a>"
   ]
  },
  {
   "cell_type": "code",
   "execution_count": null,
   "id": "1d8fed17-0139-4453-ae1c-6306466612e8",
   "metadata": {},
   "outputs": [],
   "source": [
    "import numpy as np\n",
    "import matplotlib.pyplot as plt\n",
    "\n",
    "from qiskit import QuantumCircuit,QuantumRegister, ClassicalRegister\n",
    "from qiskit.circuit import Parameter\n",
    "from qiskit.visualization import plot_histogram, plot_distribution\n",
    "from qiskit_ibm_runtime import Options, Session, SamplerV2 as Sampler\n",
    "from qiskit.result import marginal_distribution\n",
    "\n",
    "from qiskit.transpiler import generate_preset_pass_manager\n",
    "from qiskit_ibm_runtime import QiskitRuntimeService\n",
    "from qiskit_aer import AerSimulator"
   ]
  },
  {
   "cell_type": "code",
   "execution_count": null,
   "id": "0be6adac-5738-4a39-9235-76c6ac7c2ecc",
   "metadata": {},
   "outputs": [],
   "source": [
    "#parameters\n",
    "n=6 #no. of layers\n",
    "num_qubit = int(2*(n+1)) #no. of qubits\n",
    "m= int(n+1) #starting position\n",
    "\n",
    "#Registers\n",
    "qr= QuantumRegister(num_qubit, name=\"qr\")\n",
    "cr= ClassicalRegister(num_qubit,name=\"cr\")\n",
    "qc= QuantumCircuit(qr,cr)\n",
    "\n",
    "#Initialize walker at starting position\n",
    "qc.x(m)\n",
    "\n",
    "#Initialize starting state of coin |0> 0r |1> or (|0> + i*|1>)/sqrt(2) state\n",
    "qc.h(0)\n",
    "qc.s(0)\n",
    "\n",
    "#Quantum Walk steps\n",
    "for i in range(n):\n",
    "        qc.h(0)\n",
    "        p=int(m-i)\n",
    "        for j in range(i+1):\n",
    "            r= int(p + 2*j)\n",
    "            qc.x(0)\n",
    "            qc.cswap(0,r-1,r)   # left shift if coin is |0>\n",
    "            qc.x(0)\n",
    "            qc.cswap(0,r,r+1)   # Right shift if coin is |1>\n",
    "            \n",
    "qc.barrier()\n",
    "\n",
    "#measurement\n",
    "for i in range(1,num_qubit):\n",
    "    qc.measure(qr[i],cr[i])\n",
    "\n",
    "\n",
    "qc.draw(\"mpl\")"
   ]
  },
  {
   "cell_type": "code",
   "execution_count": null,
   "id": "63577b0d-7b8f-4fcf-9167-92c4eb6ee263",
   "metadata": {},
   "outputs": [],
   "source": [
    "backend = AerSimulator()\n",
    "\n",
    "# make quantum circuit compatible to the backend\n",
    "pm = generate_preset_pass_manager(backend = backend, optimization_level=3)\n",
    "qc_isa = pm.run(qc)\n",
    "\n",
    "# run and get counts\n",
    "sampler = Sampler(mode=backend)\n",
    "counts = sampler.run([qc_isa], shots = 1000).result()[0].data.cr.get_counts()\n",
    "\n",
    "plot_distribution(counts)"
   ]
  },
  {
   "cell_type": "code",
   "execution_count": null,
   "id": "34265dc3-efe0-4473-8df3-4d816b193e6a",
   "metadata": {},
   "outputs": [],
   "source": []
  }
 ],
 "metadata": {
  "kernelspec": {
   "display_name": "Qiskit",
   "language": "python",
   "name": "qiskit"
  },
  "language_info": {
   "codemirror_mode": {
    "name": "ipython",
    "version": 3
   },
   "file_extension": ".py",
   "mimetype": "text/x-python",
   "name": "python",
   "nbconvert_exporter": "python",
   "pygments_lexer": "ipython3",
   "version": "3.12.7"
  }
 },
 "nbformat": 4,
 "nbformat_minor": 5
}
